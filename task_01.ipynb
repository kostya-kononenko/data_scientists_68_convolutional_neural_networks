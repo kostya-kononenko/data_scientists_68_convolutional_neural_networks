{
 "cells": [
  {
   "cell_type": "code",
   "execution_count": 2,
   "id": "44153161",
   "metadata": {},
   "outputs": [],
   "source": [
    "import tensorflow as tf\n",
    "from tensorflow.keras.layers import Conv2D, MaxPooling2D, Flatten, Dense\n",
    "from tensorflow.keras.callbacks import TensorBoard"
   ]
  },
  {
   "cell_type": "code",
   "execution_count": 3,
   "id": "a1e309f1",
   "metadata": {},
   "outputs": [],
   "source": [
    "num_classes = 10"
   ]
  },
  {
   "cell_type": "code",
   "execution_count": 4,
   "id": "86916d86",
   "metadata": {},
   "outputs": [],
   "source": [
    "input_shape = (32, 32, 3)"
   ]
  },
  {
   "cell_type": "code",
   "execution_count": 5,
   "id": "058c4a38",
   "metadata": {},
   "outputs": [],
   "source": [
    "model = tf.keras.Sequential([\n",
    "    Conv2D(32, kernel_size=(3, 3), activation='relu', input_shape=input_shape),\n",
    "    MaxPooling2D(pool_size=(2, 2)),\n",
    "    Conv2D(64, kernel_size=(3, 3), activation='relu'),\n",
    "    MaxPooling2D(pool_size=(2, 2)),\n",
    "    Conv2D(128, kernel_size=(3, 3), activation='relu'),\n",
    "    MaxPooling2D(pool_size=(2, 2)),\n",
    "    Flatten(),\n",
    "    Dense(128, activation='relu'),\n",
    "    Dense(num_classes, activation='softmax')\n",
    "])"
   ]
  },
  {
   "cell_type": "code",
   "execution_count": 6,
   "id": "555111a5",
   "metadata": {},
   "outputs": [],
   "source": [
    "model.compile(optimizer='adam', loss='categorical_crossentropy', metrics=['accuracy'])"
   ]
  },
  {
   "cell_type": "code",
   "execution_count": 7,
   "id": "d58e41de",
   "metadata": {},
   "outputs": [],
   "source": [
    "tensorboard_callback = TensorBoard(log_dir='logs')"
   ]
  },
  {
   "cell_type": "code",
   "execution_count": 8,
   "id": "3cd2e30b",
   "metadata": {},
   "outputs": [],
   "source": [
    "(X_train, y_train), (X_test, y_test) = tf.keras.datasets.cifar10.load_data()\n",
    "X_train = X_train / 255.0\n",
    "X_test = X_test / 255.0\n",
    "y_train = tf.keras.utils.to_categorical(y_train, num_classes)\n",
    "y_test = tf.keras.utils.to_categorical(y_test, num_classes)"
   ]
  },
  {
   "cell_type": "code",
   "execution_count": 9,
   "id": "636599bf",
   "metadata": {},
   "outputs": [
    {
     "name": "stdout",
     "output_type": "stream",
     "text": [
      "Epoch 1/10\n",
      "391/391 [==============================] - 48s 117ms/step - loss: 1.6703 - accuracy: 0.3874 - val_loss: 1.3790 - val_accuracy: 0.5011\n",
      "Epoch 2/10\n",
      "391/391 [==============================] - 46s 117ms/step - loss: 1.2921 - accuracy: 0.5369 - val_loss: 1.1992 - val_accuracy: 0.5723\n",
      "Epoch 3/10\n",
      "391/391 [==============================] - 45s 115ms/step - loss: 1.1268 - accuracy: 0.6017 - val_loss: 1.1181 - val_accuracy: 0.6047\n",
      "Epoch 4/10\n",
      "391/391 [==============================] - 44s 114ms/step - loss: 1.0189 - accuracy: 0.6436 - val_loss: 0.9952 - val_accuracy: 0.6528\n",
      "Epoch 5/10\n",
      "391/391 [==============================] - 45s 114ms/step - loss: 0.9369 - accuracy: 0.6745 - val_loss: 0.9573 - val_accuracy: 0.6682\n",
      "Epoch 6/10\n",
      "391/391 [==============================] - 44s 113ms/step - loss: 0.8691 - accuracy: 0.6988 - val_loss: 0.8972 - val_accuracy: 0.6919\n",
      "Epoch 7/10\n",
      "391/391 [==============================] - 44s 114ms/step - loss: 0.8058 - accuracy: 0.7187 - val_loss: 0.8775 - val_accuracy: 0.6988\n",
      "Epoch 8/10\n",
      "391/391 [==============================] - 44s 114ms/step - loss: 0.7629 - accuracy: 0.7360 - val_loss: 0.9153 - val_accuracy: 0.6895\n",
      "Epoch 9/10\n",
      "391/391 [==============================] - 45s 114ms/step - loss: 0.7255 - accuracy: 0.7486 - val_loss: 0.8335 - val_accuracy: 0.7172\n",
      "Epoch 10/10\n",
      "391/391 [==============================] - 44s 113ms/step - loss: 0.6781 - accuracy: 0.7646 - val_loss: 0.8317 - val_accuracy: 0.7205\n"
     ]
    },
    {
     "data": {
      "text/plain": [
       "<keras.callbacks.History at 0x7f0ab5a8c990>"
      ]
     },
     "execution_count": 9,
     "metadata": {},
     "output_type": "execute_result"
    }
   ],
   "source": [
    "model.fit(X_train, y_train, batch_size=128, epochs=10, verbose=1, validation_data=(X_test, y_test), callbacks=[tensorboard_callback])"
   ]
  }
 ],
 "metadata": {
  "kernelspec": {
   "display_name": "Python 3 (ipykernel)",
   "language": "python",
   "name": "python3"
  },
  "language_info": {
   "codemirror_mode": {
    "name": "ipython",
    "version": 3
   },
   "file_extension": ".py",
   "mimetype": "text/x-python",
   "name": "python",
   "nbconvert_exporter": "python",
   "pygments_lexer": "ipython3",
   "version": "3.11.4"
  }
 },
 "nbformat": 4,
 "nbformat_minor": 5
}
